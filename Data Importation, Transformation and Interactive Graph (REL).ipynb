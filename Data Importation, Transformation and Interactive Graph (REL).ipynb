{
 "cells": [
  {
   "cell_type": "markdown",
   "id": "84f272f9",
   "metadata": {},
   "source": [
    "Added progressively: all the \"import\" I need."
   ]
  },
  {
   "cell_type": "code",
   "execution_count": 1,
   "id": "fe4fa88c",
   "metadata": {},
   "outputs": [],
   "source": [
    "import pandas as pd\n",
    "pd.set_option('mode.chained_assignment', None)\n",
    "from bokeh.plotting import *\n",
    "from bokeh.palettes import Spectral11"
   ]
  },
  {
   "cell_type": "markdown",
   "id": "bef3d61b",
   "metadata": {},
   "source": [
    "Accessing the Political Instability data."
   ]
  },
  {
   "cell_type": "code",
   "execution_count": 2,
   "id": "cbeb9523",
   "metadata": {},
   "outputs": [],
   "source": [
    "score_af = pd.read_csv(\"Data/score_af.csv\")\n",
    "score_af = score_af.set_index(\"Index_name\")"
   ]
  },
  {
   "cell_type": "markdown",
   "id": "69a40a29",
   "metadata": {},
   "source": [
    "Accessing the GDP data."
   ]
  },
  {
   "cell_type": "code",
   "execution_count": 3,
   "id": "b4c4380e",
   "metadata": {},
   "outputs": [],
   "source": [
    "gdp_af = pd.read_csv(\"Data/gdp_af.csv\")\n",
    "gdp_af = gdp_af.set_index(\"Index_name\")"
   ]
  },
  {
   "cell_type": "markdown",
   "id": "fa91f621",
   "metadata": {},
   "source": [
    "Manual separation of countries where more than 50% of the population has the same religion... according to Wikipedia ^^"
   ]
  },
  {
   "cell_type": "code",
   "execution_count": 4,
   "id": "66f01d7c",
   "metadata": {},
   "outputs": [],
   "source": [
    "christian = [\"Angola\", \"Cameroon\", \"Central African Republic\",\n",
    "             \"Democratic Republic of the Congo\", \"Congo\",\n",
    "             \"Equatorial Guinea\", \"Gabon\", \"Sao Tome and Principe\",\n",
    "             \"Burundi\", \"Kenya\", \"Malawi\", \"Mozambique\", \"Rwanda\",\n",
    "             \"Seychelles\", \"Tanzania\", \"Uganda\", \"Zambia\", \"Eritrea\",\n",
    "             \"Ethiopia\", \"Botswana\", \"Lesotho\", \"Namibia\",\n",
    "             \"South Africa\", \"Swaziland\", \"Zimbabwe\", \"Cape Verde\",\n",
    "             \"Ghana\", \"Liberia\"]\n",
    "muslim = [\"Chad\", \"Comoros\", \"Djibouti\", \"Somalia\", \"Algeria\",\n",
    "          \"Egypt\", \"Libya\", \"Morocco\",\"Sudan\", \"Tunisia\",\n",
    "          \"Burkina Faso\", \"Gambia\", \"Guinea\", \"Mali\", \"Mauritania\",\n",
    "          \"Niger\", \"Nigeria\", \"Senegal\", \"Sierra Leone\"]\n",
    "other = [\"Madagascar\", \"Mauritius\", \"Benin\", \"Ivory Coast\",\n",
    "         \"Guinea-Bissau\", \"Togo\"]"
   ]
  },
  {
   "cell_type": "code",
   "execution_count": 5,
   "id": "f16be924",
   "metadata": {},
   "outputs": [],
   "source": [
    "pi_christian = score_af.loc[:, christian].mean(axis=1).tolist()\n",
    "pi_muslim = score_af.loc[:, muslim].mean(axis=1).tolist()\n",
    "pi_other = score_af.loc[:, other].mean(axis=1).tolist()"
   ]
  },
  {
   "cell_type": "code",
   "execution_count": 6,
   "id": "b1f44696",
   "metadata": {},
   "outputs": [],
   "source": [
    "gdp_christian = gdp_af.loc[:, christian].mean(axis=1).tolist()\n",
    "gdp_muslim = gdp_af.loc[:, muslim].mean(axis=1).tolist()\n",
    "gdp_other = gdp_af.loc[:, other].mean(axis=1).tolist()"
   ]
  },
  {
   "cell_type": "markdown",
   "id": "f58b2a2e",
   "metadata": {},
   "source": [
    "Calculation of the \"norm\" of each value."
   ]
  },
  {
   "cell_type": "code",
   "execution_count": 7,
   "id": "cd4152de",
   "metadata": {},
   "outputs": [],
   "source": [
    "gdpmax = gdp_af.max().max()\n",
    "gdpmin = gdp_af.min().min()\n",
    "\n",
    "normal_christian = []\n",
    "for i in range(len(gdp_christian)):\n",
    "    normal = (gdp_christian[i]-gdpmin)/(gdpmax-gdpmin)\n",
    "    normal_christian.append(normal)\n",
    "    \n",
    "normal_muslim = []\n",
    "for i in range(len(gdp_muslim)):\n",
    "    normal = (gdp_muslim[i]-gdpmin)/(gdpmax-gdpmin)\n",
    "    normal_muslim.append(normal)\n",
    "    \n",
    "normal_other = []\n",
    "for i in range(len(gdp_other)):\n",
    "    normal = (gdp_other[i]-gdpmin)/(gdpmax-gdpmin)\n",
    "    normal_other.append(normal)"
   ]
  },
  {
   "cell_type": "code",
   "execution_count": 8,
   "id": "b98bfc2a",
   "metadata": {},
   "outputs": [],
   "source": [
    "pimax = score_af.max().max()\n",
    "pimin = score_af.min().min()\n",
    "\n",
    "normal_christian_pi = []\n",
    "for i in range(len(pi_christian)):\n",
    "    normal = (pi_christian[i]-pimin)/(pimax-pimin)\n",
    "    normal_christian_pi.append(normal)\n",
    "    \n",
    "normal_muslim_pi = []\n",
    "for i in range(len(pi_muslim)):\n",
    "    normal = (pi_muslim[i]-pimin)/(pimax-pimin)\n",
    "    normal_muslim_pi.append(normal)\n",
    "    \n",
    "normal_other_pi = []\n",
    "for i in range(len(pi_other)):\n",
    "    normal = (pi_other[i]-pimin)/(pimax-pimin)\n",
    "    normal_other_pi.append(normal)"
   ]
  },
  {
   "cell_type": "code",
   "execution_count": 9,
   "id": "eaa1e762",
   "metadata": {},
   "outputs": [],
   "source": [
    "chretien = []\n",
    "for i in range(len(normal_christian)):\n",
    "    if normal_christian_pi[i] == 0:\n",
    "        chretien.append(0)\n",
    "    else:\n",
    "        chretien.append(normal_christian[i] / normal_christian_pi[i])\n",
    "\n",
    "musulman = []\n",
    "for i in range(len(normal_muslim)):\n",
    "    if normal_muslim_pi[i] == 0:\n",
    "        musulman.append(0)\n",
    "    else:\n",
    "        musulman.append(normal_muslim[i] / normal_muslim_pi[i])\n",
    "    \n",
    "autre = []\n",
    "for i in range(len(normal_other)):\n",
    "    if normal_other_pi[i] == 0:\n",
    "        autre.append(0)\n",
    "    else:\n",
    "        autre.append(normal_other[i] / normal_other_pi[i])"
   ]
  },
  {
   "cell_type": "markdown",
   "id": "22fbbbf8",
   "metadata": {},
   "source": [
    "Creation of the REL interactive graph."
   ]
  },
  {
   "cell_type": "code",
   "execution_count": 11,
   "id": "5659c60e",
   "metadata": {},
   "outputs": [],
   "source": [
    "output_file(\"REL.html\")\n",
    "\n",
    "rel = figure(width=700, height=350)\n",
    "rel.title.text = 'GDP and Political Instability per religion (Click on the legend to select out variables)'\n",
    "\n",
    "xs = [[1950, 1960, 1970, 1980, 1990, 2000, 2010, 2020],\n",
    "      [1950, 1960, 1970, 1980, 1990, 2000, 2010, 2020],\n",
    "      [1950, 1960, 1970, 1980, 1990, 2000, 2010, 2020]]\n",
    "ys = [chretien, musulman, autre] \n",
    "palette=Spectral11[0:3]\n",
    "legends_list = [\"Christian\", \"Muslim\", \"None\"]\n",
    "\n",
    "for x, y, name, color in zip(xs, ys, legends_list, palette):\n",
    "    rel.line(x, y, color = color, line_width = 3,\n",
    "             legend_label = name, alpha=0.8, muted_color=color,\n",
    "             muted_alpha=0.2)        \n",
    "\n",
    "rel.legend.location = \"top_left\"\n",
    "rel.legend.click_policy=\"mute\""
   ]
  },
  {
   "cell_type": "code",
   "execution_count": null,
   "id": "eaff2a4f",
   "metadata": {},
   "outputs": [],
   "source": []
  }
 ],
 "metadata": {
  "kernelspec": {
   "display_name": "Python 3 (ipykernel)",
   "language": "python",
   "name": "python3"
  },
  "language_info": {
   "codemirror_mode": {
    "name": "ipython",
    "version": 3
   },
   "file_extension": ".py",
   "mimetype": "text/x-python",
   "name": "python",
   "nbconvert_exporter": "python",
   "pygments_lexer": "ipython3",
   "version": "3.9.7"
  }
 },
 "nbformat": 4,
 "nbformat_minor": 5
}
